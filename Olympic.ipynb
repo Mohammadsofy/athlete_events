{
  "cells": [
    {
      "cell_type": "markdown",
      "metadata": {
        "id": "Uqb0pPHcEieo"
      },
      "source": [
        "[Data in Kaggle](https://www.kaggle.com/heesoo37/120-years-of-olympic-history-athletes-and-results?select=athlete_events.csv)"
      ]
    },
    {
      "cell_type": "code",
      "execution_count": 2,
      "metadata": {
        "id": "jyHxLtv5HMWO"
      },
      "outputs": [],
      "source": [
        "import pandas as pd\n",
        "import numpy as np\n",
        "import matplotlib.pyplot as plt\n",
        "import seaborn as sns"
      ]
    },
    {
      "cell_type": "code",
      "execution_count": 5,
      "metadata": {
        "id": "JWEgG-b8GVHb"
      },
      "outputs": [],
      "source": [
        "df=pd.read_csv(\"athlete_events.csv\")"
      ]
    },
    {
      "cell_type": "code",
      "source": [
        "df.duplicated().sum()"
      ],
      "metadata": {
        "id": "jlQ-1sjY50rs"
      },
      "execution_count": null,
      "outputs": []
    },
    {
      "cell_type": "markdown",
      "metadata": {
        "id": "BzjwXwKf4uq5"
      },
      "source": [
        "### Don't forget to drop duplicates first"
      ]
    },
    {
      "cell_type": "code",
      "execution_count": 7,
      "metadata": {
        "id": "TgQjyPdT4vBW"
      },
      "outputs": [],
      "source": [
        "df.drop_duplicates(inplace=True)"
      ]
    },
    {
      "cell_type": "code",
      "source": [
        "df.duplicated().sum()"
      ],
      "metadata": {
        "id": "fla_Z_V9u670"
      },
      "execution_count": null,
      "outputs": []
    },
    {
      "cell_type": "markdown",
      "metadata": {
        "id": "XSRBTpdq4SHr"
      },
      "source": [
        "### Find the missing data in each column"
      ]
    },
    {
      "cell_type": "code",
      "execution_count": null,
      "metadata": {
        "id": "oMCn6iQ84RC3"
      },
      "outputs": [],
      "source": [
        "df.isnull().sum()"
      ]
    },
    {
      "cell_type": "markdown",
      "metadata": {
        "id": "bEQx6FUW4Wp7"
      },
      "source": [
        "### plot the Number of males and females"
      ]
    },
    {
      "cell_type": "code",
      "execution_count": null,
      "metadata": {
        "id": "IEcJI7874WIy"
      },
      "outputs": [],
      "source": [
        "plt.figure(figsize=(10,5))\n",
        "df.Sex.value_counts().plot(kind=\"bar\")\n",
        "plt.title(\"Number of males and females\")\n",
        "plt.xlabel(\"Sex\")\n",
        "plt.ylabel(\"Number of people\")\n",
        "plt.xticks(rotation=0)\n",
        "plt.show()\n",
        "\n"
      ]
    },
    {
      "cell_type": "markdown",
      "metadata": {
        "id": "caEJAuvr6JhT"
      },
      "source": [
        "### How many cities do we have and what are they ?"
      ]
    },
    {
      "cell_type": "code",
      "execution_count": null,
      "metadata": {
        "id": "R3mjcMR06J3H"
      },
      "outputs": [],
      "source": [
        "print(df[\"City\"].nunique())\n",
        "print(df[\"City\"].unique())"
      ]
    },
    {
      "cell_type": "markdown",
      "metadata": {
        "id": "rfCV9OvWdLfS"
      },
      "source": [
        "# <font color='red'>**Intermediate level**</fond>"
      ]
    },
    {
      "cell_type": "markdown",
      "metadata": {
        "id": "bMk9AiG6zlwS"
      },
      "source": [
        "### Find the number of athlete for each year and plot them"
      ]
    },
    {
      "cell_type": "code",
      "source": [
        "num_athlre=df.groupby(\"Year\")[\"Name\"].nunique()\n",
        "print(num_athlre.sum())\n",
        "plt.figure(figsize=(20,10))\n",
        "num_athlre.plot(kind=\"bar\")\n",
        "plt.title(\"Number of athlete for each year\",size=25)\n",
        "plt.xlabel(\"Year\",size=25)\n",
        "plt.ylabel(\"Number of athlete\",size=25)\n",
        "\n",
        "plt.xticks(rotation=45,size=25)\n",
        "plt.yticks(size=25)\n",
        "\n",
        "\n",
        "plt.show()\n"
      ],
      "metadata": {
        "id": "O9PpOIOVCrHa"
      },
      "execution_count": null,
      "outputs": []
    },
    {
      "cell_type": "markdown",
      "metadata": {
        "id": "CLiNn4S3ztGn"
      },
      "source": [
        "### Which athlete participated the most? (his/her name and ID)"
      ]
    },
    {
      "cell_type": "code",
      "execution_count": null,
      "metadata": {
        "id": "CVuQRkkqzngx"
      },
      "outputs": [],
      "source": [
        "M=df[df.Sex==\"M\"].groupby(\"Name\")[\"ID\"].count().sort_values(ascending=False).head(1)\n",
        "F=df[df.Sex==\"F\"].groupby(\"Name\")[\"ID\"].count().sort_values(ascending=False).head(1)\n",
        "print(f\"Male : {M}\")\n",
        "print(f\"FeMale : {F}\")\n"
      ]
    },
    {
      "cell_type": "markdown",
      "metadata": {
        "id": "c2w7UVsFG2yW"
      },
      "source": [
        "# <font color='red'>**Advanced level**</fond>"
      ]
    },
    {
      "cell_type": "markdown",
      "metadata": {
        "id": "ypxonNr4dQFn"
      },
      "source": [
        "### Find the number of each medal for each year.\n",
        "##### The output should look like this\n",
        "![Capture.PNG](data:image/png;base64,iVBORw0KGgoAAAANSUhEUgAAAUEAAADECAYAAAABBJPuAAAAAXNSR0IArs4c6QAAAARnQU1BAACxjwv8YQUAAAAJcEhZcwAAEnQAABJ0Ad5mH3gAACPkSURBVHhe7Z1vTxtJ1vb3q+y3yFu/iFBerLWI6NYtOc8oaBWPBo3WqyFoE55BbCKSDUIDGYwGrFnIxlHsCMiIeIgIyCGGRHZGaqGWIn+ec9ff7uruarsNRklc14ufBleX292nTl3n1KnuyZ+uXLlCAADgKhBBAIDTQAQBAE4DEQQAOA1EEADgNBBBAIDTQAQBAE4DEQQAOA1E8Atm+U2Xul0Tj+o/2PtG+KFOnuh/QMu24yPIuW0FnAci+AUDETQpUfWDtIPXWKbx2HGIIDgvPUVw/PEB+cKhmlSeiB4r1TzpbB/rVDLavy5KVP+oJ02LNgrhMX1/Xq1k9M9CjibvV6nZ9tV5QwY/l2aZDsQ5Pq8IhkLj0e5cLjzG/ES0v1mO9O9H7uYCVY/a5H9S5/3kU/uoSgs3jXMH9BbBkAFt9TWg7cvv/eU85YJj+l4HGWfT5w18j5q1BZrM2b4z2vTJBEODeduzYfsEM77P231qPLA57NdC1CHMezyfCBZosaGCg4XREUHG23IoROcRwYL2IQsDimmU0RbBaEIyRBFUROa5I/RdDuceNBLZ4Oy2mugnW1QM+iYzIL99QOW/jwXnsg6Aiv7zaVlYYZEa+jtek7ZuD1N049cT3uN5RDDMnNn3Xpdp5n/NezexZIteixprJRqz9u8zsQvz0Ywq4BJFkGeDd9Wxc4jg5JOW/I7fpI2pcZnd5MZp6kGdWi+N8wSCbtDzd1Js9W2V2qo9uG7N3G7Cx8f+XqbGiRHQmO/V708aWVhoj4PHbJ7c3qLWmerbbtCi4c8XJiKCplBdTAT5dYu2a0XaOFK+aNg26/0lM3qPWntlKl3TffRvsjG5v0D1t6Fd23uLVFDnCe/HRuwer5WovNciz/jN82ayGWqCRdo6kT8kjD9Rpqa4qOiSqGAIQJQ2VQNn7BGFDEENBWgx+O0Av0ELqt/FCQen/UE6gRa9wUVwMrzWdxvGwCZJtxVzitpMZKJJeohgr4zqkkSw/aEt/uuzCSOywXOI4NQzeQ7uH/X/r0TQxrBE0BifeLYz/1KOvd9YFNeRu11XghnHp4OfxoPvBSKxukCN+Bgwf55U/S6Mti+zu7gun42rEOvhiGDurzO09U75v2GbTPfXy//adZoRotRj3jOaa9qm+n4smAlXbobqbUsfhv+6V6nETqaNkRyLlMIRmfGrL5TzRib6LO16/CKYMD4oymyGRZeFl1JI/MZC5HwmY7dYhBE30KKtv8m2QIDeNsljv1m+mROOKScDE9Xvk+c5H0aEWtP3yKIcG7jBRTAcwOaqDA76HAF88uZYZqucxnu5QEUeLQ1bCYdORLO0iX2FFvZUBOcZ1W0pJrm76l4uSQQP1nUgZGPxLTt2DhG88q0edwXPhJ8sGNlDksCe5xJBlqmvNdVv7dJs0D5PuyLD0RniOJXf8s8+tX6doXE+FixDnfm1JQOXIW7aHi3mp3zCz7JrL6w2VYAbou0D+26oa2OB6GmRHdP3ej4RjMNXL1OG7/W/vxwtNpT/fdylhVt85TNGxQfa/7jQ8rlg/qZPzQpf8RSobMk+TYJgxEXfyDz1OPrvtmjmr/z8ORrnmaqYV6GOZCWTCPJa18Y7fROcmIPZorWJsXmSSJ0DwnOa4tFaL4S/M3QMEfwhvEfuYBcRQR1hrSJolhdMsZvYUKLA66xGuyBtYusJrCeFar/kmiB37PkgwLHs6TwiyOBLzoNERGfi88SWDV9cBMMAZCyJ9VI4EMZwHO2ENtX2EOczN4qGjWHfMCHhwXq4IshpPwtt3//+wgxRB37JeDCXZAIU/qb3Ijx/z/E09h0OHkc1ILwuO8EyPyMZRZBhCF2wDNLoQUpDiyCP/gnx01hEUGVlwe8MHVMEmUBrgWK/u/VCXsNFRFATGWxtq8Suevr30yd2yncuXQTZ5yCTY5H36flEUDN2a57KNZb1B75h33C7sAgydD1bL/v0UjgIIv0Cuk0EP1SN2vglEAkyYXmq9aSq7vV8Ihj4jFiJ6PJEWBftf3/ptg6+K67Z8puM9PEssO+r5XlkN5zTW8Q5yfnTm+wimHIjAh1N+4hWUAfiS1yROvP2pCED41z64zdREeQOFjyG4alByCyCoX10bUkfiwz2TzpgMMdNyQR354x2QZqzpUTioHRwiSJoLIU8L4s4ZaDAltnqfmx2H4YIBiInfEtn0uHED8dBLfXj3zeITnR7n6EQy7Rzj1SwZnYffJxT5nEg/qHd+t+ftjU/V0omyEQs7TfTxrOoN82CmqJJeO7I6ucCDEcEg7ScOS/fFRXr9FgfRihubOlxjQ3mX2eo/Fq1fREiGN3hFfeTWQTZ4D3V0dSn5pN5We9jYhHspvPBDiYZG0SjJlhWkY8HkuTGT9rENpztqCx2xsb+vkFNvYt3qSLIiGdNA4jBcqNNzdoyzfw/vSkyRv8zF25ItNbDDQjNUEQwCHTs+LoK3ux8YdAygtlJXdW5zO+HfC4RNK9RcvFMcDl4tKtFG/FMMPX+Qv/rto2a4JqeQyyjv8/72bXDNp7hppS5oRol+J7forreg7gAwxFBRinY7Uui+4eP29j4MkQw3OSRDCKCfNdKZ5JWxGDnaKaWZiuz/hEGFivKccZZZpm0qU++yKguWQTZJNCFekHqZEkSTDAbRgYQ+IIVPW7ZbKUJCus+Dzxsoj6KBm27TSWmP3w+EQzvQXI+EbTh7y0EASHL/aXvpLNzse/JzdOMIphjmbkx96IY9xjUCy2cQzOGJoJ8ck+tNqj1UWU0BmH/MZp9atR+1LNxZWHsL0UEow42kAhycpO0wO6xHWRjjE8+eScN2rirBW6MSixamn38dpOqkefQsk5sJqpPDJuy82zcnVX3ddkiyAh2ohk9Jkuc3M1Z2uDPeZnOfCazQ3OH+DJE0Nyhj+4UhxT+1f+tn88pgtFgfXER9D8mn1PNen9yg8uwlc/G8an5zF5GEexZj43dY9qzsZcrggAAMHpABAEATgMR7EffRyYUl70k+irosyzVXHqZwz16lw1C7KUst4EI9gMiOAAQwc8FRPD8QAQBAE4DEQQAOA1EEADgNBBBAIDTQAQBAE4DEQQAOA1EEADgNBBBAIDTQAQBAE4DEQQAOM2f/vznPxMAALhGIIJXr14lAABwDYggAMBpIIIAAKeBCAIAnAYiCABwGoggAMBpIIIAAKeBCAIAnAYiCABwGoggAMBpIIIAAKeBCAIAnOZ8Ipifo51Ol7ztO5Zj01R50yH/k/o3Tj95dLy9RFP5aL/8dIX234f/RqrfOaba4hTljT6CWw+p1jTO53fosHKHJuL9Rpo8Ta/v06mnbMDw3u3Q0nf5SL/8d0u0887ra3twPvJL++Qzux7+EjvGff73U/Kc9tEhk9GmxX/v0LExL/zOIVX+ORHp04/BRfD6Paq998UPJkWwRNX38mK85g5trm/STlMKnf9mjW7ofrM16oib86nze5Uq61Xab/Nz+szBiuH5bq3Roc/6icm8afTr0umzUthvpMnT3HZH2rC9T9X1Cm1uH8t/CN7fpyUtcAlbGbY/WqNi4rxgILR9mT2jIliktSPpu1Ff7lJney4Z1EEGstlUB6XuWYf2n1Wo8myfOmd8jDpUm42fM50BRHCCSks7dCp+RJIQwRkmbrz91UNj8PO08prfwClVvzc/e7Tzo5nJqBtnE3tFTex7v/FJ3In1K1GtzX7f26N7QdsI802FjplN40KWX5EOcFz5X/FZ2ipu0zw9fCXb9+6F3wWDUqRKk/umn8wE1USMzoUibZ7wOXJIa0EbyExGm6694Z9PafOW7sP4h9Qg//VS2NaH7CI4uyOzD5Zp7K9s0mHiIsM+p/+5EWm/s60mqFDnO7TzBzvP+ypNGX0EC3vSycr88xLts8jrM0GN9HGMqWencqC/sR+XsAycO8gfOzQXP/ZvZdP4Eg5kRGXi/jFV2NKL+7dpy2k2Pv4nHeBDlkSghwieh6w2XTtiPn+2Rw+NPlevsoydjVGXJQ1hW28GEMEaHQd1KPlDCRHMP6Q9LnDMYTbFujxPN37cpGO+jOjU6I7op0TwZDNcHmuUCIrzKkHly+OHz4/V8pnhHdOOrXY4ooiB5uJm1lA/sWXCmwrduW7/jknpOV9K+7S/ZD8OepP/cYdlFqpME/ikva/g+iTNVQ5Fv0gJCJyfFJsWK8diPnReqbr39RItvZL+fliOJmK9yC6CEVJEkHN9Ti5X2fGA9zWaCybsDaq84+2nVJuxLd3UecuH4m//jC9D1Jp/a08txwe7ya+Xaap12P3yZRgLArLOWqHqGyWGQWBJQdexXCkdDJu8Wo2wpZUIun1EUK54uH8yTqo0nSFIgd70tmmeSkwn+JgEfdiKc//nwZKk4YpgXgugLmgaxflmhUqqn4yurF98w6PTETckzvuLFEGxDDHX/NdXhGO6MbFV1sxtsmsW2fM0/Zwvk3lNMCUY3GJZORfQRE0VZEPVqDssC9ebT31EcK6sfJ4/HcF91/wuOBe9bFpkGiHa/mCrwy1jY+QT8/mFz5QJ6qVXZIeXUVw/Fhd7+t+poG3inxU67PA1Pr9otbz7bpNO9XmVCNoKnHO7XFg7LJOMto8eWgST9ZGreblh0mXLg0g7I/8ds63aJdv7d3QsQDaK/+FBJhZAsiyHFfL7bKn23JWnGC6fiE3zKhmKBxr++J4oye3TkvHdXgxRBG/I3ZtEoZIjlxV9i5WqJig2Vsz6YKxfdKNllFE2tRbY5RjEbTpxj2XZvH7qM+FEBnhOwgw8nT7+p4PUAAV60AfTpqZWxPrJzcTs+vBZRHDpFa/zJZU6Im7fyKyQfye+vn/Iv993x3Q0kPdqGVBlH3P3vLiyL+sj3j6tmCUEMCA3aO5ntrxaj/Fcrmg6r/jnFZpj/rfyu/Rl/VhXgPZfS6YOepPJpl+mCIbL4eN1+3JYLw1uiLTWp/0VI1PRRfx2TdUO9QZKbElyi0WDSL8R596eELboc4J5VRIIbRjUWVGHujwsy2E54fhkNH0+fMA9tWYLUslkU70c5k9OpCyHEyKawlBFUDwiI15h4TU+tZP5u6VIrHbd+MbIYexJb1PwEhsowe6wS8V+/fQ8E0L1xojeHQ6F0XhT590hHb5JUsXD0hfHVhNUr5AKn49vBkYCF8hMRpuWKjK54hsje+LpkR06FmWM5L5EL4YrgpzrdxLvDp/+nnymTb/nKvrwm0t558/2jvHmvcHeDfz6Uc9K8sChbfrbSvhO8PdVuUzoQZZiPuhD2sZI3Of9Dh0/xzvbFyKTTfM0tRh/dzjl/0HQg3OKIAAAjAYQQQCA00AEAQBOAxEEADgNRBAA4DQQQQCA00AEAQBOAxEEADgNRBAA4DQQQQCA00AEAQBOAxEEADgNRBAA4DQQQQCA0wQiqP8AAAAXgQgCAJwGIggAcBqIIADAaSCCAACngQgCAJwGIggAcBqIIADAaSCCAACngQgCAJwGIggAcBqIIADAaQYTwdwM1dtd8mql5LHCPFWP2uR/6lK3y/Ba1Fgr0Vi8X26Kyq+j/XaXJikX65ebKtNB25d9GN7JLi3ezEX6jATDsCnrV3/rBbbq+m06sPUDlLu5IGwV2PSTR83aAk3mzH45mrxfp+bH0P+6XpPq9+N+WqD5WpM8fS5m92ZlFnbvh9XnS1T/qOyYQth/iqrs+7Y+3TfLxjmzkV0Er81S9UQ6RWLCTizTwZm8CO+oThurG1Q/kpOyXZsxHKdIWye8n0/tvS0qV7ijyc8HP42H5/t2i1r8hs7a1HhSpg3taP4BLU/oc40Aw7BpboEavmHT1S1qfJDnbD+zCKvLFJhNua2E8G0wW4U29dnkKah+hccH5LO27kcmfJWy9FNP2vjgcUGdL0cLDTV2Ynxg90yk+vwkLb84oIPXSdpiHpgawcaRj1m7mez/66xxzmxkEMExKj6oU0tNyOTFX6Hi07a4yOaqdhBOjmZqvL1N1W9lW+5RQzhXa93ox6MCF0Jvl2bV9xaFc7Voo6D68O/erpPHf3t78Jv88hieTa/8dCC+H7EpCzbVD+y8foMWgjYwu80Fz6P6bXNFkaP5l7J99y7/PEu7XPA+1mnGzA5z87Jd++m3VWrzcXs5bwT5ApWPuO82qTxKwXoo9Pd5G3reRwK/amuuDmdl2F8Ef5A/yKNn49GGUOD4xS+/YcdtE25iQ2R07WdT4rOMnCybiyw9rtDkk5ZwwvoP/LPKbFhkji49JmUWyZyzFGn/ChmiTa+wrIWL5e5ctJ/4Pre10eY2bBXyTvrPTPzYv3ZFcD54zP7mqxC26vBezET7MOZfKv9lf0d91uCBDPQHj0ewdHMRMvh8Ah14YgEpt9q02/6cZBDBKjXf1mlB1ONkGmqdsGe7NG+0CdSElet0tY63idicdEKh7N+rCGsxkHRCFmVjIvrVMTSbss+FMjV5qaC9q87HI+6usKH/epnG498HCXTW3XhgPy6JZtfLr9nftiCjxscmok6TwefjlGo8Q+fjwr8Tts+84O0HtLXKlsq6Hmut2WZjsI2RlIuXywx2sY/GIu2FdR4t2QWKCasKn0fl5IWqKCHOq/62pbrSKMOLAF8GF7GpbMvdYucQNasQr7EYK/YDK7pOGJRj7Og6oS7HiCBlyyrVeJrjA+LYfT7CBAvu3I7vNoJarWScNnhGz4/pmu2TRlg3DGq22RmKCAaOxC5CFudVwdlvy4sTDqFqLTbnMEXw7q74WyxNYv1cEsFsNlX9+Oeg2G8U6F/MIxPsRYEtt8QuYztWJ4xSYMtlnll323pZ9hcqv2WfraUZOZ4QwV6k+LxBmJ3Hx2VGZuTBWCiuqaUzy9QXBwz+wxFBhn70IMhEROrLLiyYsMgE7VzEpnoTKT6Jc2rJwJzofvScQJK7WVa7723a/Vda9pCjSbbk4hkgLzfMGxt1yAQvQj8RVAlTn+w8jl4+x+vj/RiaCFpR9RH/5Tz7jJqgnYvYVAkiWzIkMr6/yceMMp/XIcbu1mUtyW/RVmoGOEazYiee2fpkK5p1MFATvAh9fF6tBtN9d4zGriXb5YaJfRXZi6GIYPFXXqdiDvU3sy+7KLFzGe6U9d0dvs0/998dTkbfr5mL2BQiOCiFRw0xwboeWzYZmV2UAsuwZQbOa6vRmpSk3+7wsB7fGE16i+DUMx58UlZ8aqUok4DoMZkktan6fbS9H8PJBFUm135aDNvUU+HmGh3PCdq4iE21rXgAMSedsRx+hMmo4T4Ure3Z0M9iMttHHvSPgecEL0AvEcwxG0oftz/jqpbK/MUJM4jxpyR48vShSsVI//4MaTkcvgnS2t6IvgkS2a0pqdddLG+MmP1+kA7GNwESb4ykRu+vlQva9Fs1+HxjZNvYQGHnNN+CANqezNZvY28ZKLb4w9L6bSVuT0ufg9dbKliPsyUxFzx2vvgbI73EEzB6iaBKik62aDJxTBK80XPWol29Oyw2EXtvcKUxvJrgtZJ4J5g7gSDtuR3Vr9+7w2N/d+Td4SHYNL6BIt5hfRp/H9ZxVHkgsJEFXkuSy1z7cYlRB8xN0gLeHT4HvURQHuu9saTe7TYeC/NOGlSeOp8+DCiCAAAwWkAEAQBOAxEEADgNRBAA4DQQQQCA00AEAQBOAxEEADgNRBAA4DQQQQCA00AEAQBOAxEEADgNRBAA4DQQQQCA00AEAQBOAxEEADjNn65evUoAAOAaEEEAgNNABAEATgMRBAA4DUQQAOA0EEEAgNNABAEATgMRBAA4DUQQAOA0EEEAgNNABAEATnM+EczP0U6nS972neSxWw+p1uyQ/6lL3S7DO6X9yh2aiPfLT1PlTbTf3s9TlI/3M8gv7ZPP+h7+Yj/+VZNi07UjZZ80jtbC/sr2wTHvmHYWe9sUXKXiL4fMrw5pzXIs4c9+hw7j/sx9+fdT8nr1AUl66Mh03fDjCNFxyk9X6LDjB8e993u08l0+cq5+DC6C1+9R7b380cTFf7NGh2fqYpo7tLm+STtNT3zubM8Zk7FE1fe8n0+d36tU2dqh4z/k58Pyjeg5NbfYuX157pETwR42vfffQzp8k0Tai9m1rvorh+p2PTre3oza9Jdi5JxAk6epn/fJY3aMTy6B9rlPyqbrVdpvy3E6fVZS/YosUPE25ctGn6jPgwi9dIQhgj8LJscJ36/SPd3vH1U65WN31qH9ZxXa3D6WgchnY/lN9Hy9GEAEJ6i0tEOnSuRsF196ztXbp+N1c9LlaW6bt3eo9g/Zll+RGd3pf4x+fBLzSevthTcZUKRKkxnM90csE+xvUyu3KnTMJqfPssCiapt6dipsf/iLEUTyD2nPY+ft1GhatwFBvjDHViIyQEuSInjvN368Qzs/mplFiWpt1l/7qVqdRMetSJsn9nOCLD6vtKBZ6RFE8rTymovoKW3eCtvzP+6IoOb9ds/o25vsIjgrT86j4v7KJh1aLl6q9z4tGW2CbzaFYnfq0+Lzkrh45iD5aD85kT3amTXblYj6x1T5t7yGkRHBDDZNoiYYt4cx+Cu/swBxFrf9lMy4/9ihO5F2oMsM/gnL3na52MUFa4n2eaB59dBoSzLNfNb/dErV76PtgY8bbYCRxefzLMj3nQtyfHg5KCqUg/v8ACJYo+N3O7Qk1ttsmWC5SOFYZ3v00GgTKBGU9atpqvFlm+0iF/ZEVD1eDyMvV/aOXtIpA46OCPa3aZwbon5lLsfs5AvTtLTNJijrGyyZQcDa67Bud2fbIoKBrxXp4fNj6gS16z511uuTNFc5FN/136zRDVsfl8ni8yqbO2RL3ENR4mGIksQSTenEaabGdME+Xx6+4gGIJQmxJCuN7CIYwX7xcvngM4WfiLQX/8MzPHYjQgTvpKe6yvGC8+ZVNH69JPuOmghGyCKC9+Tyli3FHvYYYHMzxWO2m7T0ASFWESwfCvv5Z7wMI2tOla09tYyz167leZTtWYY5fT16HMSx+/wNrReWWmxQAlJaYCZMGjkO8RVlOkMVwXDzQheJ1cYIc6IOdx4hgmoii7+N73IiIqgKzp0dmtMT3nERDGqpPbPAIi1VpOPsnchJadYOQRKrCLKMW0zEWNnh6vUVuQyz1K7nysrn+VMP/Lum7wILdp+f4zvDn+K12AmW4fFx4kkWa7+3l6oFn1cEGfnvlmjnnZx8HE+kvg9pLxDBbJmgzB5jhnBaBG9Q5R23KZuUmXe+8lHHsfYBvUSQr0LMvpw5UUPsUG0m2m6iVz+d573LFm7TP/BHUPNf1GnV319eJpiGqgnKInOWmqDaHWJ/p5P9Jr8O+tj0G1ks5oEktR5lQ++WZR0rB7GKoPJFm90yTTJV3LeueIAi3ecnrkdLagLTpl9qTbD0Xx79kjtleRVVD3+Rqt13d/jHGzT3c4UtLWI8P5aF/lf88wrNDfAs0JdPHxFUNSptwyjTckesXaNS/JiazHpnHiSxiqCxmRcPOnKSndIm8z++K8+fiFiJTzj9/TcQwXRsPq9WirYN1ogv998dnou0pzPcTFBfpLkE0A/xGo4y+HOCCoeXw3IJlgwwGhlYPNpbMEVSP8jL2u9F+4MQqwgG5YdYSUY9o6kDjgzcMV8Ono1lq5pKysP/gGH3eb3BGn3IXz0rHDxv/DmeE4yQNmHDN0FOf+v11sIduSRm7Yk3Rnq93eCsCOaZAzD72J7B1PR4uwFvLvTGLoJyQvElV2DTYHfYEMbgTZ3YZiD7Hjak+pHi88YGq9CRNF+elUtivXsfeWPE3Mzqw5BFkHH9jngnmF+wIO25KtVvkHeH3RVBtUTo8wBofFMq9b1tECFNBDn83dT996FN/c4xbd6L1avivsxf93puPNMGUkj3easvr08n9GHin5/j3WEAABghIIIAAKeBCAIAnAYiCABwGoggAMBpIIIAAKeBCAIAnAYiCABwGoggAMBpIIIAAKeBCAIAnAYiCABwGoggAMBpIIIAAKeBCAIAnCYQQf0HAAC4CEQQAOA0EEEAgNNABAEATgMRBAA4DUQQAOA0EEEAgNNABAEATgMRBAA4DUQQAOA0EEEAgNNABAEATjOYCOZmqN7uklcrJY8V5ql61Cb/U5e6XYbXosZaicbi/XJTVH4d7be7NEm5eL/4+fw2HdjO97XTy6Y/Hch7T+BR/Qfep0T1j7bjIdbzAkHh8QH53QNaThyboiobE5s9u2+WjX45mlptUMsLj3tv67RwM2f0AQl6+bxJboEaftzmnKzjk43sInhtlqonvvihxMVPLNPBmbwI76hOG6sbVD/yxOd2bcYQuCJtnfB+PrX3tqhcqVNTTGKfDn4aD89XYOfjN//Jo2Ztg8qrW9T4IH+79aQY9vva6WVTRqnGbehR6/UBHUSo0/LfeJ9JWn4RPyZpi/GI2RUocjS51CCP2b1rFUHmf+yY324mbfvrrOqTo5laW4yd/6FBW6tl2qg15Tn9Bi3k4ucEgj4+H1Kg5TeyX1LYsoxPdjKI4BgVH9SppUTOdvHFp9wZfGquFox27SRtqn4r23KPGizyMiFbN/rxqMCF0NulWdU2u80nf5vqt82IWqTqh2i/r5f+NuX2Kx+xYx/rNBNp70/udl1MxmgAApzcX2fYSkQGaIlFBJX9mqs9MrqJMjVZH59N0ILRrn28ufaXaH/nyeLzIYXVJrOjT74tE8wyPgPQXwR/kD/Is7LGow2hwPGLX37DjvPoZ7QJJjaoxfq3n02JzwsNruzM6WJRcvJJi7XrJZ5Mgf2X85E+I0UGm165ooLDoOl9bp52+fKMiyeykQTCV5m9/XdsJfKCi2FSBHNsAob+aEf6bIs2JuzHQYxMPi/hQbwtkqp56xzIMj6DkEEEq9QM6hwyDbWK4NkuzRttAiWC8ibUOp5NzlK839yujJ5c2ZWxDh4XaP5pk9pB7bBJ9fuW2uHXSAabXsnJTKP9coPqb1Xm8smn9usyla4Z/WLIJbRPjQfDiZKjxnIjrC1LWyVFcEaJ49bqQar/CZ/ngWaqTI2T7OPjLFl8nqPqhTLDVjXvmAhmGZ9BGGxjJOXi5fKVTbxHY5H2wjqPlvom1A0dlZMXqoRPnFdtBvhnLGv029R4UqZyZVel0aNY40pxCBUY+D2L+qlRZ+22U7I8tUTrvtuILNGAHbsIjtPGO253xkc2sSrM/540whorC85BQPfZco1NQlkHL9OWXma3q8lADwzSRDAnV4tBTdUmglnGR/fNxlBEMNjIiE9YJmLi4sRNzMplWkzVBaYIPlY7on6TygWjz7VFuVM0EjVBE7tN/8J3LllmER3UHE1WZGBpP01uEOnaLLLAbNhFcEbWnuOB5poqM7AJupgLd+W9F2bdNUdTT+X4NNewIZWO3eflbr25F2ATwSzjY7RnYDgiyMjdXAiXbbyPSH3ZhQUimDETVCLoNxaifRgyDW5T9fto+9dNuk2t5GR/nu2NR46pIDNyQeLySFsOp6FLDbtzWgRbtCV26Q1UGaP72hLsgcLi8wW1fxDZzLOJYDrh+NiPpzE0EbSiaoJykyNjTVD9bfsNeZPDK4h+GfQILNfGLDUOtWESt+Pd3TCQmO0glXQRHKMxS11PFuR5vVovyWzfVUEq48R1k6TPy7HgNk0n7N9vfJLHejEUESz+KnfK4lExp7K6g8cyve27O3ybfTY2U+ICMP+Sf3/UduTsNpW7mJZ71faJZRpTz/hSeNQCxOViFUG1KrE9nSD9T65E5N8We0cCf+wYUCR9fvz2IpVXyzGq1OQryQ+74vPi7fHM4xM/1ovhZIIqe4vUqdQuj7lGz/ac4DiV33IBiD0nWGDLDF4T/FClom4bCew2HV+TUS26PMipkgDfhDLrfuqZQttjSiAVeyaoygo+azdr0nH/U5l39DnBtPEBUVJ0JIFtOZxxfAZgSMvh8E2Q1vZG9E2QSGG/pF53sbwxYvSTzwmxdv3GSLA7HH+AehRIsakOIvzY6+jucPwB3WCJfLJFk5F20Iu05bAs0DN7nrVoV+8+io0/0//CNxr0GyN6dzg5PiDKRUQw6/hkZ3g1wWsl8U4wdwJB2nM7ql+/d4dz5vNXDP6KzMbd6CM4o0F/m5rvTzefzlsmmDwH6lCDkV4TzNHkfRagecah/M87aVB5Kj7B1LOsYgIyWNBubS/S5IC7k+5xMRHMPj7ZGFAEAQBgtIAIAgCcBiIIAHAaiCAAwGkgggAAp4EIAgCcBiIIAHAaiCAAwGkgggAAp4EIAgCcBiIIAHAaiCAAwGkgggAAp4EIAgCc5k9Xr14lAABwDYggAMBpIIIAAKeRIniF/g/hrL5QZJb7jwAAAABJRU5ErkJggg==)"
      ]
    },
    {
      "cell_type": "code",
      "execution_count": null,
      "metadata": {
        "id": "SVi5vpTRdP0S"
      },
      "outputs": [],
      "source": [
        "df.groupby(['Year','Medal'])['Medal'].count().unstack().fillna(0)\n"
      ]
    },
    {
      "cell_type": "markdown",
      "source": [
        "# plot the previous table"
      ],
      "metadata": {
        "id": "s_Xh4xw6tJ5s"
      }
    },
    {
      "cell_type": "code",
      "source": [
        "medal_year = df.groupby(['Year','Medal'])['Medal'].count().unstack().fillna(0)\n",
        "medal_year.plot(kind='bar',  figsize=(20,10))\n",
        "plt.title('Number of Each Medal for Each Year')\n",
        "plt.xlabel('Year')\n",
        "plt.ylabel('Number of Medals')\n",
        "plt.show()\n"
      ],
      "metadata": {
        "id": "iUaPSM24tPUu"
      },
      "execution_count": null,
      "outputs": []
    },
    {
      "cell_type": "markdown",
      "metadata": {
        "id": "0wFiJ3Q6Gtl_"
      },
      "source": [
        "# <font color='red'>**You are Geek!**</fond>\n",
        "### Provide all your answers with plots"
      ]
    },
    {
      "cell_type": "markdown",
      "metadata": {
        "id": "bGJWv4O1qw2t"
      },
      "source": [
        "### Find the number of winners with the gold medal in each city?"
      ]
    },
    {
      "cell_type": "code",
      "source": [
        "df[df['Medal'] == 'Gold'].groupby('City')['Medal'].count().sort_values(ascending=False)"
      ],
      "metadata": {
        "id": "7oRPCJDmkJCh"
      },
      "execution_count": null,
      "outputs": []
    },
    {
      "cell_type": "markdown",
      "metadata": {
        "id": "zByZdd-a8_a3"
      },
      "source": [
        "### Find the total missing data for each year?"
      ]
    },
    {
      "cell_type": "code",
      "execution_count": null,
      "metadata": {
        "id": "L1MdA3qv_bWs"
      },
      "outputs": [],
      "source": [
        "df.groupby('Year').apply(lambda x: x.isnull().sum().sum())"
      ]
    },
    {
      "cell_type": "markdown",
      "metadata": {
        "id": "nHDM_mzIroRs"
      },
      "source": [
        "# <font color='red'>**I dare you to solve this :)**</fond>\n",
        "### Dont use for loops, and provide all your answers with plots."
      ]
    },
    {
      "cell_type": "markdown",
      "metadata": {
        "id": "wyUGDK1phYmN"
      },
      "source": [
        "### Has the number of athletes changed over time for Summer and Winter?"
      ]
    },
    {
      "cell_type": "code",
      "execution_count": null,
      "metadata": {
        "id": "b7lfwk2AFUQy"
      },
      "outputs": [],
      "source": [
        "df.groupby(['Year', 'Season'])['ID'].nunique().unstack().plot(kind='bar', figsize=(20, 10))\n",
        "plt.title('Number of Athletes Over Time for Summer and Winter')\n",
        "plt.xlabel('Year')\n",
        "plt.ylabel('Number of Athletes')\n",
        "plt.show()\n"
      ]
    },
    {
      "cell_type": "markdown",
      "source": [
        "#<font color='red'> **Bouns Questions</fond>**"
      ],
      "metadata": {
        "id": "gKfivNg4uc31"
      }
    },
    {
      "cell_type": "markdown",
      "source": [
        "### How has the participation of male vs. female athletes changed over the years? (You can use a line plot)\n"
      ],
      "metadata": {
        "id": "bPhvl6hgu3zd"
      }
    },
    {
      "cell_type": "code",
      "source": [
        "df.groupby('Year')['Sex'].value_counts().unstack().plot(kind='line',figsize=(20,10))\n",
        "plt.title('Participation of Male vs. Female Athletes Over the Years',size=25)\n",
        "plt.xticks(size=25)\n",
        "plt.yticks(size=25)\n",
        "plt.xlabel('Year',size=25)\n",
        "plt.ylabel('Number of Athletes',size=25)\n",
        "plt.show()\n"
      ],
      "metadata": {
        "id": "RmqzO4rguyHc"
      },
      "execution_count": null,
      "outputs": []
    },
    {
      "cell_type": "markdown",
      "source": [
        "### What is the distribution of ages of athletes? Are there any differences in age distributions between medal winners and non-medal winners? (You can use histograms or KDE plots.)"
      ],
      "metadata": {
        "id": "_dl_03H8u7C7"
      }
    },
    {
      "cell_type": "code",
      "source": [
        "\n",
        "sns.kdeplot(df['Age'].dropna(), label='All Athletes')\n",
        "sns.kdeplot(df[df['Medal'].notna()]['Age'].dropna(), label='Medal Winners')\n",
        "plt.title('Age Distribution of Athletes')\n",
        "plt.xlabel('Age')\n",
        "plt.ylabel('Density')\n",
        "plt.legend()\n",
        "plt.show()\n"
      ],
      "metadata": {
        "id": "XPig5NGZZsCZ"
      },
      "execution_count": null,
      "outputs": []
    },
    {
      "cell_type": "markdown",
      "source": [
        "### Which countries have won the most medals in the last 30 years?\n",
        "\n",
        "1.   List item\n",
        "\n",
        "\n"
      ],
      "metadata": {
        "id": "lzH_JzTUvDO-"
      }
    },
    {
      "cell_type": "code",
      "source": [
        "z=df[df['Year'] >= df['Year'].max() - 30]\n",
        "z.groupby('City')['Medal'].count().sort_values(ascending=False)\n",
        "\n"
      ],
      "metadata": {
        "id": "57-I_so3vEL1"
      },
      "execution_count": null,
      "outputs": []
    },
    {
      "cell_type": "markdown",
      "source": [],
      "metadata": {
        "id": "d1gFrtPy9Ahg"
      }
    },
    {
      "cell_type": "markdown",
      "source": [
        "### Which sports have the highest number of participants in the Summer Olympics vs. the Winter Olympics?"
      ],
      "metadata": {
        "id": "sphBFC5MvHjs"
      }
    },
    {
      "cell_type": "code",
      "source": [
        "y = df[df['Season'] == 'Summer'].groupby('Sport')['ID'].nunique().sort_values(ascending=False).head(10)\n",
        "x = df[df['Season'] == 'Winter'].groupby('Sport')['ID'].nunique().sort_values(ascending=False).head(10)\n",
        "plt.figure(figsize=(20,10))\n",
        "plt.bar(y.index, y.values, color='red', width=0.4, align='center', label='Summer')\n",
        "plt.bar(x.index, x.values, color='blue', width=0.4, align='edge', label='Winter')\n",
        "plt.xlabel('Sport',size=10)\n",
        "plt.ylabel('Number of Unique IDs',size=10)\n",
        "plt.xticks(rotation=90,size=10)\n",
        "plt.yticks(size=10)\n",
        "plt.legend(fontsize=20)\n",
        "plt.title('Top 10 Sports by Number of Unique IDs in Summer and Winter Seasons')\n",
        "plt.show()\n"
      ],
      "metadata": {
        "id": "EelS6dmJVk7z"
      },
      "execution_count": null,
      "outputs": []
    },
    {
      "cell_type": "markdown",
      "source": [
        "### Is there a relationship between an athlete's height and weight across different sports? (You can use a scatter plot with height on the x-axis and weight on the y-axis, possibly color-coded by sport or medal status.)"
      ],
      "metadata": {
        "id": "rarwF3S-vL1-"
      }
    },
    {
      "cell_type": "code",
      "source": [
        "df.groupby('Sport')['Height'].mean().sort_values(ascending=False)\n",
        "df.groupby('Sport')['Weight'].mean().sort_values(ascending=False)\n",
        "plt.figure(figsize=(20,10))\n",
        "plt.scatter(df.groupby('Sport')['Height'].mean(),df.groupby('Sport')['Weight'].mean())\n",
        "plt.xlabel('Height',size=20)\n",
        "plt.ylabel('Weight',size=20)\n",
        "plt.title('Height vs. Weight by Sport')\n",
        "plt.xticks(size=20)\n",
        "plt.yticks(size=20)\n",
        "plt.show()\n"
      ],
      "metadata": {
        "id": "azCO0cCBnPdJ"
      },
      "execution_count": null,
      "outputs": []
    }
  ],
  "metadata": {
    "colab": {
      "provenance": []
    },
    "kernelspec": {
      "display_name": "Python 3",
      "language": "python",
      "name": "python3"
    },
    "language_info": {
      "codemirror_mode": {
        "name": "ipython",
        "version": 3
      },
      "file_extension": ".py",
      "mimetype": "text/x-python",
      "name": "python",
      "nbconvert_exporter": "python",
      "pygments_lexer": "ipython3",
      "version": "3.8.8"
    }
  },
  "nbformat": 4,
  "nbformat_minor": 0
}